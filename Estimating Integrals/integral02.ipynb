{
  "nbformat": 4,
  "nbformat_minor": 0,
  "metadata": {
    "colab": {
      "name": "integral02.ipynb",
      "provenance": []
    },
    "kernelspec": {
      "name": "python3",
      "display_name": "Python 3"
    }
  },
  "cells": [
    {
      "cell_type": "code",
      "metadata": {
        "id": "FouNrE0j-RFG"
      },
      "source": [
        "import math\r\n",
        "import random\r\n",
        "import matplotlib.pyplot as plt"
      ],
      "execution_count": 23,
      "outputs": []
    },
    {
      "cell_type": "code",
      "metadata": {
        "colab": {
          "base_uri": "https://localhost:8080/"
        },
        "id": "rAM7TZpV-WZW",
        "outputId": "3adfb7c1-793a-4888-e17b-715795f6e86f"
      },
      "source": [
        "n_list = [int(x) for x in input(\"Input n values: \").split()]    #list(map(int,input().split()))\r\n",
        "x_low,x_high = [int(x) for x in input(\"Input lower and upper bound of x: \").split()]\r\n",
        "y_low,y_high = [int(x) for x in input(\"Input lower and upper bound of y: \").split()]"
      ],
      "execution_count": 24,
      "outputs": [
        {
          "output_type": "stream",
          "text": [
            "Input n values: 100 1000 5000 10000\n",
            "Input lower and upper bound of x: 0 8\n",
            "Input lower and upper bound of y: 0 4\n"
          ],
          "name": "stdout"
        }
      ]
    },
    {
      "cell_type": "code",
      "metadata": {
        "id": "E2PoEWh--cDi"
      },
      "source": [
        "def func1(x):\r\n",
        "  y = math.sqrt(4*x)\r\n",
        "  return y\r\n",
        "\r\n",
        "def func2(x):\r\n",
        "  y = 8-x\r\n",
        "  return y"
      ],
      "execution_count": 25,
      "outputs": []
    },
    {
      "cell_type": "code",
      "metadata": {
        "colab": {
          "base_uri": "https://localhost:8080/",
          "height": 567
        },
        "id": "cTMSylr__95U",
        "outputId": "058c7475-289c-4376-ca0e-fc0d9c2fa892"
      },
      "source": [
        "integ_value =[]\r\n",
        "error = []\r\n",
        "\r\n",
        "for n in n_list:\r\n",
        "  fx1_sum,fx1_sqr_sum =0,0 \r\n",
        "  fx2_sum,fx2_sqr_sum = 0,0\r\n",
        "  c1,c2 = 0,0\r\n",
        "\r\n",
        "  for i in range(0, n):\r\n",
        "    x = random.uniform(x_low, x_high)\r\n",
        "    y = random.uniform(y_low, y_high)\r\n",
        "\r\n",
        "    if x <= 4:\r\n",
        "      fx1_sum = fx1_sum + func1(x)\r\n",
        "      fx1_sqr_sum = fx1_sqr_sum + func1(x)**2\r\n",
        "      c1+=1\r\n",
        "    if x > 4:\r\n",
        "      fx2_sum = fx2_sum + func2(x)\r\n",
        "      fx2_sqr_sum = fx2_sqr_sum + func2(x)**2\r\n",
        "      c2+=1\r\n",
        "\r\n",
        "  fx1_avg = fx1_sum/c1\r\n",
        "  fx1_sqr_avg = fx1_sqr_sum/c1\r\n",
        "  fx2_avg = fx2_sum/c2\r\n",
        "  fx2_sqr_avg = fx2_sqr_sum/c2\r\n",
        "\r\n",
        "  integ_value.append(fx1_avg*(4 - 0) + fx2_avg*(8 - 4))\r\n",
        "  e1 = (((4-0)/(n**0.5))*(fx1_sqr_avg - fx1_avg**2)**0.5)\r\n",
        "  e2 = (((8-4)/(n**0.5))*(fx2_sqr_avg - fx2_avg**2)**0.5)\r\n",
        "  error.append(e1*e2)\r\n",
        "\r\n",
        "n_list = [str(i) for i in n_list]\r\n",
        "\r\n",
        "for i in range(len(n_list)):\r\n",
        "  print(\"Number of trials: {}\\nArea found by integral: {}\\nError: {}\\n\".format(n_list[i],integ_value[i],error[i]))\r\n",
        "\r\n",
        "#bar plot for Trials vs. error values\r\n",
        "plt.bar(n_list,error,color = ['orange','purple'])\r\n",
        "plt.xlabel(\"Number of trials\")\r\n",
        "plt.ylabel(\"Error\")\r\n",
        "plt.title(\"Fig: Number of trials Vs. Error\")\r\n",
        "plt.show()\r\n",
        "\r\n",
        "#n_list = list(map(int, n_list)) "
      ],
      "execution_count": 27,
      "outputs": [
        {
          "output_type": "stream",
          "text": [
            "Number of trials: 100\n",
            "Area found by integral: 18.831172693056295\n",
            "Error: 0.17195105686473544\n",
            "\n",
            "Number of trials: 1000\n",
            "Area found by integral: 19.211829069342418\n",
            "Error: 0.016450434857638724\n",
            "\n",
            "Number of trials: 5000\n",
            "Area found by integral: 18.58483416623594\n",
            "Error: 0.0034763530315600364\n",
            "\n",
            "Number of trials: 10000\n",
            "Area found by integral: 18.659002342999507\n",
            "Error: 0.0017289910694797503\n",
            "\n"
          ],
          "name": "stdout"
        },
        {
          "output_type": "display_data",
          "data": {
            "image/png": "[encoded data removed]",
            "text/plain": [
              "<Figure size 432x288 with 1 Axes>"
            ]
          },
          "metadata": {
            "tags": [],
            "needs_background": "light"
          }
        }
      ]
    },
    {
      "cell_type": "code",
      "metadata": {
        "id": "5XogQMRkGMOr"
      },
      "source": [
        ""
      ],
      "execution_count": 4,
      "outputs": []
    }
  ]
}