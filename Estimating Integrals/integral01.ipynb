{
  "nbformat": 4,
  "nbformat_minor": 0,
  "metadata": {
    "colab": {
      "name": "integral01.ipynb",
      "provenance": []
    },
    "kernelspec": {
      "name": "python3",
      "display_name": "Python 3"
    }
  },
  "cells": [
    {
      "cell_type": "code",
      "metadata": {
        "id": "zPlpkDepvJtK"
      },
      "source": [
        "import math\r\n",
        "import random\r\n",
        "import matplotlib.pyplot as plt"
      ],
      "execution_count": 9,
      "outputs": []
    },
    {
      "cell_type": "code",
      "metadata": {
        "colab": {
          "base_uri": "https://localhost:8080/"
        },
        "id": "AcwpicudvZI5",
        "outputId": "03bfa8a2-32c2-401a-d6ad-29d6ea1f6e24"
      },
      "source": [
        "n_list = [int(x) for x in input(\"Input n values: \").split()]    #list(map(int,input().split()))\r\n",
        "l_limit,u_limit = [int(x) for x in input(\"Input lower and upper bound of x: \").split()]"
      ],
      "execution_count": 10,
      "outputs": [
        {
          "output_type": "stream",
          "text": [
            "Input n values: 100 1000 5000 10000\n",
            "Input lower and upper bound of x: 0 5\n"
          ],
          "name": "stdout"
        }
      ]
    },
    {
      "cell_type": "code",
      "metadata": {
        "id": "SJMQyd3lv7rt"
      },
      "source": [
        "def func(x):\r\n",
        "  fx= x**2*math.exp(x)*math.log(x)\r\n",
        "  return fx"
      ],
      "execution_count": 11,
      "outputs": []
    },
    {
      "cell_type": "code",
      "metadata": {
        "colab": {
          "base_uri": "https://localhost:8080/",
          "height": 329
        },
        "id": "wc8cP5jnwooE",
        "outputId": "a2362693-4265-4bb0-d2df-7224bcbb6be9"
      },
      "source": [
        "integ_value =[]\r\n",
        "error = []\r\n",
        "\r\n",
        "for n in n_list:\r\n",
        "  fx_sum = 0\r\n",
        "  fx_sqr_sum = 0 \r\n",
        "  \r\n",
        "  for i in range(0, n):\r\n",
        "    x = random.uniform(l_limit, u_limit)\r\n",
        "    fx_sum = fx_sum + func(x)\r\n",
        "    fx_sqr_sum = fx_sqr_sum + func(x)**2\r\n",
        "  \r\n",
        "  fx_avg = fx_sum/n\r\n",
        "  fx_sqr_avg = fx_sqr_sum/n\r\n",
        "  integ_value.append(fx_avg*(u_limit - l_limit))\r\n",
        "  error.append(((u_limit-l_limit)/(n**0.5))*(fx_sqr_avg - fx_avg**2)**0.5)\r\n",
        "\r\n",
        "n_list = [str(i) for i in n_list]\r\n",
        "\r\n",
        "#bar plot for Trials vs. error values\r\n",
        "plt.bar(n_list,error,color = ['orange','purple'])\r\n",
        "plt.xlabel(\"Number of trials\")\r\n",
        "plt.ylabel(\"Error\")\r\n",
        "plt.title(\"Fig: Number of trials Vs. Error\")\r\n",
        "plt.show()\r\n",
        "\r\n",
        "print(error)  \r\n",
        "print(integ_value)"
      ],
      "execution_count": 12,
      "outputs": [
        {
          "output_type": "display_data",
          "data": {
            "image/png": "[encoded data removed]",
            "text/plain": [
              "<Figure size 432x288 with 1 Axes>"
            ]
          },
          "metadata": {
            "tags": [],
            "needs_background": "light"
          }
        },
        {
          "output_type": "stream",
          "text": [
            "[582.6538644130179, 208.19835252203504, 93.49127365695412, 66.78188712318206]\n",
            "[2683.051881486239, 3772.5397618636116, 3819.874528659291, 3727.439275639967]\n"
          ],
          "name": "stdout"
        }
      ]
    },
    {
      "cell_type": "code",
      "metadata": {
        "id": "u0-5747-yvN4"
      },
      "source": [
        ""
      ],
      "execution_count": 4,
      "outputs": []
    }
  ]
}